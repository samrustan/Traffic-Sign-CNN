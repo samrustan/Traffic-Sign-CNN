{
 "cells": [
  {
   "cell_type": "markdown",
   "metadata": {},
   "source": [
    "# Self-Driving Car Engineer Nanodegree\n",
    "\n",
    "## Deep Learning\n",
    "\n",
    "## Project: Build a Traffic Sign Recognition Classifier\n",
    "\n",
    "#### Samuel Rustan, February Cohort\n",
    "\n",
    "In this notebook is the code I used for the traffic sign classifier project.\n",
    "\n",
    "In addition to implementing code, there is a writeup to complete. The writeup should be completed in a separate file, which can be either a markdown file or a pdf document. There is a [write up template](https://github.com/udacity/CarND-Traffic-Sign-Classifier-Project/blob/master/writeup_template.md) that can be used to guide the writing process. Completing the code template and writeup template will cover all of the [rubric points](https://review.udacity.com/#!/rubrics/481/view) for this project.\n"
   ]
  },
  {
   "cell_type": "markdown",
   "metadata": {},
   "source": [
    "---\n",
    "## Step 0: Load The Data"
   ]
  },
  {
   "cell_type": "code",
   "execution_count": 1,
   "metadata": {
    "collapsed": false
   },
   "outputs": [],
   "source": [
    "# Load pickled data\n",
    "import pickle\n",
    "\n",
    "# TODO: Fill this in based on where you saved the training and testing data\n",
    "\n",
    "training_file = 'train.p'\n",
    "validation_file = 'valid.p'\n",
    "testing_file = 'test.p'\n",
    "\n",
    "with open(training_file, mode='rb') as f:\n",
    "    train = pickle.load(f)\n",
    "with open(validation_file, mode='rb') as f:\n",
    "    valid = pickle.load(f)\n",
    "with open(testing_file, mode='rb') as f:\n",
    "    test = pickle.load(f)\n",
    "    \n",
    "X_train, y_train = train['features'], train['labels']\n",
    "X_valid, y_valid = valid['features'], valid['labels']\n",
    "X_test, y_test = test['features'], test['labels']"
   ]
  },
  {
   "cell_type": "markdown",
   "metadata": {},
   "source": [
    "---\n",
    "\n",
    "## Step 1: Dataset Summary & Exploration\n",
    "\n",
    "The pickled data is a dictionary with 4 key/value pairs:\n",
    "\n",
    "- `'features'` is a 4D array containing raw pixel data of the traffic sign images, (num examples, width, height, channels).\n",
    "- `'labels'` is a 1D array containing the label/class id of the traffic sign. The file `signnames.csv` contains id -> name mappings for each id.\n",
    "- `'sizes'` is a list containing tuples, (width, height) representing the original width and height the image.\n",
    "- `'coords'` is a list containing tuples, (x1, y1, x2, y2) representing coordinates of a bounding box around the sign in the image. **THESE COORDINATES ASSUME THE ORIGINAL IMAGE. THE PICKLED DATA CONTAINS RESIZED VERSIONS (32 by 32) OF THESE IMAGES**\n",
    "\n",
    "Complete the basic data summary below. Use python, numpy and/or pandas methods to calculate the data summary rather than hard coding the results. For example, the [pandas shape method](http://pandas.pydata.org/pandas-docs/stable/generated/pandas.DataFrame.shape.html) might be useful for calculating some of the summary results. "
   ]
  },
  {
   "cell_type": "markdown",
   "metadata": {},
   "source": [
    "### Provide a Basic Summary of the Data Set Using Python, Numpy and/or Pandas"
   ]
  },
  {
   "cell_type": "code",
   "execution_count": 2,
   "metadata": {
    "collapsed": false
   },
   "outputs": [
    {
     "name": "stdout",
     "output_type": "stream",
     "text": [
      "Number of training examples = 34799\n",
      "Number of validation examples = 4410\n",
      "Number of testing examples = 12630\n",
      "Image data shape = (32, 32, 3)\n",
      "Number of classes = 43\n"
     ]
    }
   ],
   "source": [
    "### Replace each question mark with the appropriate value. \n",
    "### Use python, pandas or numpy methods rather than hard coding the results\n",
    "\n",
    "# TODO: Number of training examples\n",
    "n_train = len(X_train)\n",
    "\n",
    "n_valid = len(X_valid)\n",
    "\n",
    "# TODO: Number of testing examples.\n",
    "n_test = len(X_test)\n",
    "\n",
    "# TODO: What's the shape of an traffic sign image?\n",
    "image_shape = X_train[0].shape\n",
    "\n",
    "# TODO: How many unique classes/labels there are in the dataset.\n",
    "n_classes = len(set(y_train))\n",
    "\n",
    "print(\"Number of training examples =\", n_train)\n",
    "print(\"Number of validation examples =\", n_valid)\n",
    "print(\"Number of testing examples =\", n_test)\n",
    "print(\"Image data shape =\", image_shape)\n",
    "print(\"Number of classes =\", n_classes)"
   ]
  },
  {
   "cell_type": "markdown",
   "metadata": {},
   "source": [
    "### Include an exploratory visualization of the dataset"
   ]
  },
  {
   "cell_type": "markdown",
   "metadata": {},
   "source": [
    "Visualize the German Traffic Signs Dataset using the pickled file(s). This is open ended, suggestions include: plotting traffic sign images, plotting the count of each sign, etc.\n",
    "\n",
    "The [Matplotlib](http://matplotlib.org/) [examples](http://matplotlib.org/examples/index.html) and [gallery](http://matplotlib.org/gallery.html) pages are a great resource for doing visualizations in Python.\n",
    "\n",
    "**NOTE:** It's recommended you start with something simple first. If you wish to do more, come back to it after you've completed the rest of the sections."
   ]
  },
  {
   "cell_type": "code",
   "execution_count": 4,
   "metadata": {
    "collapsed": false
   },
   "outputs": [
    {
     "data": {
      "image/png": "[encoded data removed]",
      "text/plain": [
       "<matplotlib.figure.Figure at 0x7f13e0094470>"
      ]
     },
     "metadata": {},
     "output_type": "display_data"
    }
   ],
   "source": [
    "import matplotlib.pyplot as plt\n",
    "%matplotlib inline\n",
    "import random\n",
    "import pandas\n",
    "\n",
    "num_images = 3\n",
    "name_ids = pandas.read_csv('signnames.csv')\n",
    "\n",
    "for i in range(num_images):\n",
    "    randnum = random.randint(0,len(X_train))\n",
    "    img = X_train[randnum]\n",
    "    class_id = y_train[randnum]\n",
    "    class_desc = name_ids['SignName'][class_id]\n",
    "    \n",
    "    plt.subplot(1,num_images,i+1)\n",
    "    plt.title('class: %s' % class_desc)\n",
    "    plt.imshow(img)\n",
    "    \n",
    "plt.tight_layout()\n",
    "plt.show()"
   ]
  },
  {
   "cell_type": "markdown",
   "metadata": {},
   "source": [
    "### Histogram of Training Data"
   ]
  },
  {
   "cell_type": "code",
   "execution_count": 5,
   "metadata": {
    "collapsed": false
   },
   "outputs": [
    {
     "data": {
      "image/png": "[encoded data removed]",
      "text/plain": [
       "<matplotlib.figure.Figure at 0x7f141cfc93c8>"
      ]
     },
     "metadata": {},
     "output_type": "display_data"
    },
    {
     "data": {
      "image/png": "[encoded data removed]",
      "text/plain": [
       "<matplotlib.figure.Figure at 0x7f141cfa7c88>"
      ]
     },
     "metadata": {},
     "output_type": "display_data"
    },
    {
     "data": {
      "image/png": "[encoded data removed]",
      "text/plain": [
       "<matplotlib.figure.Figure at 0x7f13ddb89d68>"
      ]
     },
     "metadata": {},
     "output_type": "display_data"
    }
   ],
   "source": [
    "import numpy as np\n",
    "\n",
    "def histogram(label_type, string):\n",
    "    #Count the frequency of each label\n",
    "    labels, counts = np.unique(label_type, return_counts=True)\n",
    "\n",
    "    #Plot the Histogram \n",
    "    plt.rcParams[\"figure.figsize\"] = [15,5]\n",
    "    axes = plt.gca()\n",
    "    axes.set_xlim([-1,43])\n",
    "\n",
    "    plt.bar(labels, counts, tick_label=labels, width=0.8, align='center')\n",
    "    plt.title(\"Class Distribution across \" + string + \" Data\")\n",
    "    plt.xlabel(\"Traffic Sign class ids for \" + string + \" Data\")\n",
    "    plt.ylabel(\"Samples\")\n",
    "    plt.show()\n",
    "\n",
    "histogram(y_train, \"training\")\n",
    "histogram(y_valid, \"validation\")\n",
    "histogram(y_test, \"test\")"
   ]
  },
  {
   "cell_type": "markdown",
   "metadata": {},
   "source": [
    "----\n",
    "\n",
    "## Step 2: Design and Test a Model Architecture\n",
    "\n",
    "Design and implement a deep learning model that learns to recognize traffic signs. Train and test your model on the [German Traffic Sign Dataset](http://benchmark.ini.rub.de/?section=gtsrb&subsection=dataset).\n",
    "\n",
    "The LeNet-5 implementation shown in the [classroom](https://classroom.udacity.com/nanodegrees/nd013/parts/fbf77062-5703-404e-b60c-95b78b2f3f9e/modules/6df7ae49-c61c-4bb2-a23e-6527e69209ec/lessons/601ae704-1035-4287-8b11-e2c2716217ad/concepts/d4aca031-508f-4e0b-b493-e7b706120f81) at the end of the CNN lesson is a solid starting point. You'll have to change the number of classes and possibly the preprocessing, but aside from that it's plug and play! \n",
    "\n",
    "With the LeNet-5 solution from the lecture, you should expect a validation set accuracy of about 0.89. To meet specifications, the validation set accuracy will need to be at least 0.93. It is possible to get an even higher accuracy, but 0.93 is the minimum for a successful project submission. \n",
    "\n",
    "There are various aspects to consider when thinking about this problem:\n",
    "\n",
    "- Neural network architecture (is the network over or underfitting?)\n",
    "- Play around preprocessing techniques (normalization, rgb to grayscale, etc)\n",
    "- Number of examples per label (some have more than others).\n",
    "- Generate fake data.\n",
    "\n",
    "Here is an example of a [published baseline model on this problem](http://yann.lecun.com/exdb/publis/pdf/sermanet-ijcnn-11.pdf). It's not required to be familiar with the approach used in the paper but, it's good practice to try to read papers like these."
   ]
  },
  {
   "cell_type": "markdown",
   "metadata": {},
   "source": [
    "### Pre-process the Data Set (normalization, grayscale, etc.)"
   ]
  },
  {
   "cell_type": "markdown",
   "metadata": {},
   "source": [
    "Use the code cell (or multiple code cells, if necessary) to implement the first step of your project."
   ]
  },
  {
   "cell_type": "code",
   "execution_count": 6,
   "metadata": {
    "collapsed": true
   },
   "outputs": [],
   "source": [
    "### Preprocess the data here. Preprocessing steps could include normalization, converting to grayscale, etc.\n",
    "### Feel free to use as many code cells as needed.\n",
    "def norm(img):\n",
    "    img_array = np.asarray(img)\n",
    "    norm = (img_array - img_array.min()) / (img_array.max() - img_array.min())\n",
    "    return norm\n",
    "\n",
    "def rotation(img):\n",
    "    (h, w) = image.shape[:2]\n",
    "    center = (w/2, h/2)\n",
    "    M = cv2.getRotationMatrix2D(center, 90, 1)\n",
    "    rotated = cv2.warpAffine(image, M, (w, h))\n",
    "\n",
    "X_train = norm(X_train)\n",
    "X_valid = norm(X_valid)\n",
    "X_test = norm(X_test)"
   ]
  },
  {
   "cell_type": "markdown",
   "metadata": {},
   "source": [
    "### Model Architecture"
   ]
  },
  {
   "cell_type": "code",
   "execution_count": 7,
   "metadata": {
    "collapsed": false
   },
   "outputs": [],
   "source": [
    "import tensorflow as tf\n",
    "from tensorflow.contrib.layers import flatten\n",
    "from sklearn.utils import shuffle\n",
    "\n",
    "X_train, y_train = shuffle(X_train, y_train)\n",
    "X_valid, y_valid = shuffle(X_valid, y_valid)\n",
    "\n",
    "EPOCHS = 20\n",
    "BATCH_SIZE = 128\n",
    "LEARNING_RATE = 0.001\n",
    "\n",
    "x = tf.placeholder(tf.float32, (None, 32, 32, 3))\n",
    "y = tf.placeholder(tf.int32, (None))\n",
    "keep_prob = tf.placeholder(tf.float32)\n",
    "one_hot_y = tf.one_hot(y,43)\n"
   ]
  },
  {
   "cell_type": "code",
   "execution_count": 8,
   "metadata": {
    "collapsed": true
   },
   "outputs": [],
   "source": [
    "def LeNet(x):    \n",
    "    # Hyperparameters\n",
    "    mu = 0\n",
    "    sigma = 0.1\n",
    "    \n",
    "    #Conv / ReLU / Max Pool\n",
    "    conv1_W = tf.Variable(tf.truncated_normal(shape=(5, 5, 3, 32), mean = mu, stddev = sigma))\n",
    "    conv1_b = tf.Variable(tf.zeros(32))\n",
    "    conv1   = tf.nn.conv2d(x, conv1_W, strides=[1, 1, 1, 1], padding='VALID') + conv1_b\n",
    "    conv1 = tf.nn.relu(conv1)\n",
    "    conv1 = tf.nn.max_pool(conv1, ksize=[1, 2, 2, 1], strides=[1, 2, 2, 1], padding='VALID')\n",
    "\n",
    "    #Conv / ReLU / Max Pool\n",
    "    conv2_W = tf.Variable(tf.truncated_normal(shape=(5, 5, 32, 64), mean = mu, stddev = sigma))\n",
    "    conv2_b = tf.Variable(tf.zeros(64))\n",
    "    conv2   = tf.nn.conv2d(conv1, conv2_W, strides=[1, 1, 1, 1], padding='VALID') + conv2_b\n",
    "    conv2 = tf.nn.relu(conv2)\n",
    "    conv2 = tf.nn.max_pool(conv2, ksize=[1, 2, 2, 1], strides=[1, 2, 2, 1], padding='VALID')\n",
    "    \n",
    "    fc0 =  flatten(conv2)\n",
    "       \n",
    "    # Fully Connected / ReLu / Dropout\n",
    "    fc1_W = tf.Variable(tf.truncated_normal(shape=(1600, 1024), mean = mu, stddev = sigma))\n",
    "    fc1_b = tf.Variable(tf.zeros(1024))\n",
    "    fc1 = tf.matmul(fc0, fc1_W) + fc1_b\n",
    "    fc1 = tf.nn.relu(fc1)\n",
    "    fc1_drop = tf.nn.dropout(fc1, keep_prob)\n",
    "\n",
    "    # Fully Connected / ReLu / Dropout\n",
    "    fc2_W  = tf.Variable(tf.truncated_normal(shape=(1024,512), mean = mu, stddev = sigma))\n",
    "    fc2_b  = tf.Variable(tf.zeros(512))\n",
    "    fc2 = tf.matmul(fc1_drop, fc2_W) + fc2_b\n",
    "    fc2    = tf.nn.relu(fc2)\n",
    "    fc2_drop = tf.nn.dropout(fc2, keep_prob)\n",
    "\n",
    "    # Fully Connected \n",
    "    fc3_W  = tf.Variable(tf.truncated_normal(shape=(512, 43), mean = mu, stddev = sigma))\n",
    "    fc3_b  = tf.Variable(tf.zeros(43))\n",
    "    logits = tf.matmul(fc2_drop, fc3_W) + fc3_b\n",
    "    weights = [conv1_W,conv2_W,fc1_W,fc2_W,fc3_W]\n",
    "    \n",
    "    #added after initial training in order to retrieve collection for testing new data in step 3\n",
    "    tf.add_to_collection('logits', logits)\n",
    "    \n",
    "    return logits,weights"
   ]
  },
  {
   "cell_type": "markdown",
   "metadata": {},
   "source": [
    "### Train, Validate and Test the Model"
   ]
  },
  {
   "cell_type": "markdown",
   "metadata": {},
   "source": [
    "A validation set can be used to assess how well the model is performing. A low accuracy on the training and validation\n",
    "sets imply underfitting. A high accuracy on the training set but low accuracy on the validation set implies overfitting."
   ]
  },
  {
   "cell_type": "code",
   "execution_count": 9,
   "metadata": {
    "collapsed": false
   },
   "outputs": [],
   "source": [
    "#Cross Entropy and L2 Regularization\n",
    "logits,weights = LeNet(x)\n",
    "cross_entropy = tf.nn.softmax_cross_entropy_with_logits(logits, one_hot_y)\n",
    "\n",
    "# L2 Regularization \n",
    "regularizers = 0.0\n",
    "for w in weights:\n",
    "    regularizers += tf.nn.l2_loss(w)\n",
    "\n",
    "# Amazon training parameter info/suggestions\n",
    "#http://docs.aws.amazon.com/machine-learning/latest/dg/training-parameters.html\n",
    "L2_strength = 1e-4\n",
    "loss_operation = tf.reduce_mean(cross_entropy) + L2_strength * regularizers\n",
    "optimizer = tf.train.AdamOptimizer(learning_rate = LEARNING_RATE)\n",
    "training_operation = optimizer.minimize(loss_operation)"
   ]
  },
  {
   "cell_type": "markdown",
   "metadata": {},
   "source": [
    "#### Model Evaluation"
   ]
  },
  {
   "cell_type": "code",
   "execution_count": 10,
   "metadata": {
    "collapsed": true
   },
   "outputs": [],
   "source": [
    "correct_prediction = tf.equal(tf.argmax(logits, 1), tf.argmax(one_hot_y, 1))\n",
    "accuracy_operation = tf.reduce_mean(tf.cast(correct_prediction, tf.float32))\n",
    "\n",
    "def evaluate(X_data, y_data):\n",
    "    num_examples = len(X_data)\n",
    "    accuracy_total = 0\n",
    "    loss_total = 0\n",
    "    sess = tf.get_default_session()\n",
    "    for offset in range(0, num_examples, BATCH_SIZE):\n",
    "        batch_x, batch_y = X_data[offset:offset+BATCH_SIZE], y_data[offset:offset+BATCH_SIZE]\n",
    "        accuracy = sess.run(accuracy_operation, feed_dict={x: batch_x, y: batch_y, keep_prob:1.0})\n",
    "        accuracy_total += (accuracy * len(batch_x))\n",
    "        accuracy_avg = accuracy_total / num_examples \n",
    "        loss = sess.run(loss_operation, feed_dict={x: batch_x, y: batch_y, keep_prob:1.0})\n",
    "        loss_total += (loss * len(batch_x))\n",
    "        loss_avg = loss_total / num_examples\n",
    "    return accuracy_avg, loss_avg"
   ]
  },
  {
   "cell_type": "code",
   "execution_count": 11,
   "metadata": {
    "collapsed": false,
    "scrolled": true
   },
   "outputs": [
    {
     "name": "stdout",
     "output_type": "stream",
     "text": [
      "Training...\n",
      "\n",
      "EPOCH 1 ...\n",
      "Training Accuracy : 0.9178 Validation Accuracy : 0.8605\n",
      "Training Loss : 1.0964 Validation Loss : 1.2724\n",
      "\n",
      "EPOCH 2 ...\n",
      "Training Accuracy : 0.9762 Validation Accuracy : 0.9197\n",
      "Training Loss : 0.7982 Validation Loss : 0.9570\n",
      "\n",
      "EPOCH 3 ...\n",
      "Training Accuracy : 0.9882 Validation Accuracy : 0.9408\n",
      "Training Loss : 0.6815 Validation Loss : 0.8278\n",
      "\n",
      "EPOCH 4 ...\n",
      "Training Accuracy : 0.9930 Validation Accuracy : 0.9574\n",
      "Training Loss : 0.6195 Validation Loss : 0.7444\n",
      "\n",
      "EPOCH 5 ...\n",
      "Training Accuracy : 0.9960 Validation Accuracy : 0.9544\n",
      "Training Loss : 0.5618 Validation Loss : 0.7149\n",
      "\n",
      "EPOCH 6 ...\n",
      "Training Accuracy : 0.9973 Validation Accuracy : 0.9630\n",
      "Training Loss : 0.5160 Validation Loss : 0.6471\n",
      "\n",
      "EPOCH 7 ...\n",
      "Training Accuracy : 0.9984 Validation Accuracy : 0.9671\n",
      "Training Loss : 0.4756 Validation Loss : 0.5985\n",
      "\n",
      "EPOCH 8 ...\n",
      "Training Accuracy : 0.9984 Validation Accuracy : 0.9703\n",
      "Training Loss : 0.4372 Validation Loss : 0.5476\n",
      "\n",
      "EPOCH 9 ...\n",
      "Training Accuracy : 0.9991 Validation Accuracy : 0.9658\n",
      "Training Loss : 0.4004 Validation Loss : 0.5327\n",
      "\n",
      "EPOCH 10 ...\n",
      "Training Accuracy : 0.9987 Validation Accuracy : 0.9651\n",
      "Training Loss : 0.3681 Validation Loss : 0.4814\n",
      "\n",
      "EPOCH 11 ...\n",
      "Training Accuracy : 0.9995 Validation Accuracy : 0.9653\n",
      "Training Loss : 0.3378 Validation Loss : 0.4720\n",
      "\n",
      "EPOCH 12 ...\n",
      "Training Accuracy : 0.9992 Validation Accuracy : 0.9583\n",
      "Training Loss : 0.3093 Validation Loss : 0.4786\n",
      "\n",
      "EPOCH 13 ...\n",
      "Training Accuracy : 0.9989 Validation Accuracy : 0.9689\n",
      "Training Loss : 0.2876 Validation Loss : 0.3916\n",
      "\n",
      "EPOCH 14 ...\n",
      "Training Accuracy : 0.9992 Validation Accuracy : 0.9667\n",
      "Training Loss : 0.2597 Validation Loss : 0.3864\n",
      "\n",
      "EPOCH 15 ...\n",
      "Training Accuracy : 0.9988 Validation Accuracy : 0.9639\n",
      "Training Loss : 0.2378 Validation Loss : 0.3926\n",
      "\n",
      "EPOCH 16 ...\n",
      "Training Accuracy : 0.9985 Validation Accuracy : 0.9415\n",
      "Training Loss : 0.2214 Validation Loss : 0.4795\n",
      "\n",
      "EPOCH 17 ...\n",
      "Training Accuracy : 0.9991 Validation Accuracy : 0.9698\n",
      "Training Loss : 0.2045 Validation Loss : 0.3384\n",
      "\n",
      "EPOCH 18 ...\n",
      "Training Accuracy : 0.9996 Validation Accuracy : 0.9639\n",
      "Training Loss : 0.1860 Validation Loss : 0.3274\n",
      "\n",
      "EPOCH 19 ...\n",
      "Training Accuracy : 0.9994 Validation Accuracy : 0.9635\n",
      "Training Loss : 0.1754 Validation Loss : 0.3475\n",
      "\n",
      "EPOCH 20 ...\n",
      "Training Accuracy : 0.9999 Validation Accuracy : 0.9696\n",
      "Training Loss : 0.1613 Validation Loss : 0.2735\n",
      "\n",
      "Model saved!\n"
     ]
    }
   ],
   "source": [
    "with tf.Session() as sess:\n",
    "    sess.run(tf.global_variables_initializer())\n",
    "    num_examples = len(X_train)\n",
    "    trained_accuracy = []\n",
    "    validated_accuracy = []\n",
    "    trained_loss = []\n",
    "    validated_loss = []\n",
    "    epochs = []\n",
    "\n",
    "    print(\"Training...\")\n",
    "    print()\n",
    "    for i in range(EPOCHS):\n",
    "        X_train, y_train = shuffle(X_train, y_train)\n",
    "        for offset in range(0, num_examples, BATCH_SIZE):\n",
    "            end = offset + BATCH_SIZE\n",
    "            batch_x, batch_y = X_train[offset:end], y_train[offset:end]\n",
    "            sess.run(training_operation, feed_dict={x: batch_x, y: batch_y, keep_prob: 0.5})\n",
    "        train_accuracy, train_loss = evaluate(X_train, y_train)\n",
    "        valid_accuracy, valid_loss = evaluate(X_valid, y_valid)\n",
    "        \n",
    "        trained_accuracy.append(train_accuracy)\n",
    "        trained_loss.append(train_loss)\n",
    "        validated_accuracy.append(valid_accuracy)\n",
    "        validated_loss.append(valid_loss)\n",
    "        epochs.append(i)\n",
    "        \n",
    "        print(\"EPOCH {} ...\".format(i+1))\n",
    "        print(\"Training Accuracy : {:.4f} Validation Accuracy : {:.4f}\".format(train_accuracy,valid_accuracy))\n",
    "        print(\"Training Loss : {:.4f} Validation Loss : {:.4f}\".format(train_loss, valid_loss))\n",
    "        print()\n",
    "    \n",
    "    try:\n",
    "        saver\n",
    "    except NameError:\n",
    "        saver = tf.train.Saver()\n",
    "    \n",
    "    saver.save(sess, './lenet_traffic_sign')\n",
    "    print(\"Model saved!\")"
   ]
  },
  {
   "cell_type": "code",
   "execution_count": 12,
   "metadata": {
    "collapsed": false
   },
   "outputs": [
    {
     "data": {
      "image/png": "[encoded data removed]",
      "text/plain": [
       "<matplotlib.figure.Figure at 0x7f13d0948780>"
      ]
     },
     "metadata": {},
     "output_type": "display_data"
    },
    {
     "data": {
      "image/png": "[encoded data removed]",
      "text/plain": [
       "<matplotlib.figure.Figure at 0x7f13dda6e4a8>"
      ]
     },
     "metadata": {},
     "output_type": "display_data"
    }
   ],
   "source": [
    "plt.plot(epochs, trained_accuracy, color='blue', label='Training')\n",
    "plt.plot(epochs, validated_accuracy, color='red', label='Validation')\n",
    "plt.xlabel('Epochs')\n",
    "plt.ylabel('Accuracy')\n",
    "plt.title('Training and Validation Accuracy')\n",
    "plt.legend()\n",
    "plt.show()\n",
    "plt.plot(epochs, trained_loss, color='blue', label='Training')\n",
    "plt.plot(epochs, validated_loss, color='red', label='Validation')\n",
    "plt.xlabel('Epochs')\n",
    "plt.ylabel('Loss')\n",
    "plt.title('Training and Validation Loss')\n",
    "plt.legend()\n",
    "plt.show()"
   ]
  },
  {
   "cell_type": "code",
   "execution_count": 14,
   "metadata": {
    "collapsed": false
   },
   "outputs": [
    {
     "name": "stdout",
     "output_type": "stream",
     "text": [
      "Test Accuracy : 0.9548\n",
      "Test Loss : 0.3773\n"
     ]
    }
   ],
   "source": [
    "with tf.Session(config=tf.ConfigProto(log_device_placement=True)) as sess: \n",
    "    saver.restore(sess,'./lenet_traffic_sign')\n",
    "\n",
    "    X_test = norm(X_test)\n",
    "\n",
    "    test_accuracy, test_loss = evaluate(X_test, y_test)\n",
    "    print(\"Test Accuracy : {:.4f}\".format(test_accuracy))\n",
    "    print(\"Test Loss : {:.4f}\".format(test_loss))"
   ]
  },
  {
   "cell_type": "markdown",
   "metadata": {},
   "source": [
    "---\n",
    "\n",
    "## Step 3: Test a Model on New Images\n",
    "\n",
    "To give yourself more insight into how your model is working, download at least five pictures of German traffic signs from the web and use your model to predict the traffic sign type.\n",
    "\n",
    "You may find `signnames.csv` useful as it contains mappings from the class id (integer) to the actual sign name."
   ]
  },
  {
   "cell_type": "markdown",
   "metadata": {},
   "source": [
    "### Load and Output the Images"
   ]
  },
  {
   "cell_type": "markdown",
   "metadata": {},
   "source": [
    "### Predict the Sign Type for Each Image"
   ]
  },
  {
   "cell_type": "code",
   "execution_count": 67,
   "metadata": {
    "collapsed": false
   },
   "outputs": [
    {
     "name": "stdout",
     "output_type": "stream",
     "text": [
      "Predicted:  General caution\n",
      "Predicted:  Priority road\n",
      "Predicted:  Priority road\n",
      "Predicted:  Roundabout mandatory\n",
      "Predicted:  Slippery road\n",
      "\n",
      "\n",
      "Actual:  Children crossing\n",
      "Actual:  General caution\n",
      "Actual:  No entry\n",
      "Actual:  Roundabout mandatory\n",
      "Actual:  Speed limit (60km/h)\n"
     ]
    }
   ],
   "source": [
    "import os\n",
    "import tensorflow as tf\n",
    "import numpy as np\n",
    "import pandas\n",
    "import matplotlib.pyplot as plt\n",
    "import matplotlib.image as mpimg\n",
    "import cv2\n",
    "\n",
    "#logits=tf.get_collection('logits')\n",
    "softmax = tf.nn.softmax(logits)\n",
    "name_ids = pandas.read_csv('signnames.csv')\n",
    "\n",
    "images = []\n",
    "image_labels = []\n",
    "\n",
    "image = mpimg.imread('test_signs_web/test1.jpg')\n",
    "image = cv2.resize(image,(32,32))\n",
    "image = norm(image)\n",
    "images.append(image)\n",
    "image_labels.append(28)\n",
    "\n",
    "image = mpimg.imread('test_signs_web/test2.jpg')\n",
    "image = cv2.resize(image,(32,32))\n",
    "image = norm(image)\n",
    "images.append(image)\n",
    "image_labels.append(18)\n",
    "\n",
    "image = mpimg.imread('test_signs_web/test3.jpg')\n",
    "image = cv2.resize(image,(32,32))\n",
    "image = norm(image)\n",
    "images.append(image)\n",
    "image_labels.append(17)\n",
    "\n",
    "image = mpimg.imread('test_signs_web/test4.jpg')\n",
    "image = cv2.resize(image,(32,32))\n",
    "image = norm(image)\n",
    "images.append(image)\n",
    "image_labels.append(40)\n",
    "\n",
    "image = mpimg.imread('test_signs_web/test5.jpg')\n",
    "image = cv2.resize(image,(32,32))\n",
    "image = norm(image)\n",
    "images.append(image)\n",
    "image_labels.append(3)\n",
    "\n",
    "images = np.array(images)\n",
    "image_labels = np.array(image_labels)\n",
    "    \n",
    "\n",
    "with tf.Session(config=tf.ConfigProto(log_device_placement=True)) as sess: \n",
    "    saver.restore(sess,'./lenet_traffic_sign')\n",
    "\n",
    "    top_k_preds = sess.run(tf.nn.top_k((softmax), k=5), feed_dict={x:images,y:image_labels, keep_prob:1.0})\n",
    "\n",
    "    #print([np.argmax(row) for row in top_k_preds])\n",
    "    \n",
    "for each in top_k_preds.indices[0]:\n",
    "    pred_id = each[0]\n",
    "    print(\"Predicted: \", name_ids['SignName'][pred_id])\n",
    "    \n",
    "print(\"\\n\")\n",
    "\n",
    "for each in image_labels:\n",
    "    print(\"Actual: \", name_ids['SignName'][each])\n",
    "        \n",
    "        \n",
    "    #class_desc = name_ids['SignName'][class_id]\n",
    "\n",
    "    \n",
    "\n",
    "\n",
    "\n"
   ]
  },
  {
   "cell_type": "markdown",
   "metadata": {},
   "source": [
    "### Analyze Performance"
   ]
  },
  {
   "cell_type": "code",
   "execution_count": 26,
   "metadata": {
    "collapsed": false
   },
   "outputs": [
    {
     "data": {
      "text/plain": [
       "array([[[  6.92797661e-01,   1.07092328e-01,   5.84631898e-02,\n",
       "           3.17292809e-02,   2.64928956e-02],\n",
       "        [  2.52516329e-01,   1.84028804e-01,   1.80170804e-01,\n",
       "           1.21077344e-01,   4.85556759e-02],\n",
       "        [  4.34249520e-01,   1.71488166e-01,   6.88352734e-02,\n",
       "           6.84236214e-02,   5.58173954e-02],\n",
       "        [  1.00000000e+00,   3.77161191e-09,   1.49739909e-09,\n",
       "           4.77496931e-10,   3.24016286e-10],\n",
       "        [  9.86072123e-01,   6.49490952e-03,   6.17272360e-03,\n",
       "           6.95744297e-04,   2.96251732e-04]]], dtype=float32)"
      ]
     },
     "execution_count": 26,
     "metadata": {},
     "output_type": "execute_result"
    }
   ],
   "source": [
    "top_k_preds.values"
   ]
  },
  {
   "cell_type": "code",
   "execution_count": 27,
   "metadata": {
    "collapsed": false
   },
   "outputs": [
    {
     "data": {
      "text/plain": [
       "array([[[23, 40,  9, 28, 20],\n",
       "        [18,  1, 25,  3, 17],\n",
       "        [12, 37, 10, 40, 39],\n",
       "        [40, 16, 37,  7, 11],\n",
       "        [12, 21, 26, 11,  1]]], dtype=int32)"
      ]
     },
     "execution_count": 27,
     "metadata": {},
     "output_type": "execute_result"
    }
   ],
   "source": [
    "top_k_preds.indices"
   ]
  },
  {
   "cell_type": "markdown",
   "metadata": {},
   "source": [
    "### Output Top 5 Softmax Probabilities For Each Image Found on the Web"
   ]
  },
  {
   "cell_type": "markdown",
   "metadata": {},
   "source": [
    "For each of the new images, print out the model's softmax probabilities to show the **certainty** of the model's predictions (limit the output to the top 5 probabilities for each image). [`tf.nn.top_k`](https://www.tensorflow.org/versions/r0.12/api_docs/python/nn.html#top_k) could prove helpful here. \n",
    "\n",
    "The example below demonstrates how tf.nn.top_k can be used to find the top k predictions for each image.\n",
    "\n",
    "`tf.nn.top_k` will return the values and indices (class ids) of the top k predictions. So if k=3, for each sign, it'll return the 3 largest probabilities (out of a possible 43) and the correspoding class ids.\n",
    "\n",
    "Take this numpy array as an example. The values in the array represent predictions. The array contains softmax probabilities for five candidate images with six possible classes. `tk.nn.top_k` is used to choose the three classes with the highest probability:\n",
    "\n",
    "```\n",
    "# (5, 6) array\n",
    "a = np.array([[ 0.24879643,  0.07032244,  0.12641572,  0.34763842,  0.07893497,\n",
    "         0.12789202],\n",
    "       [ 0.28086119,  0.27569815,  0.08594638,  0.0178669 ,  0.18063401,\n",
    "         0.15899337],\n",
    "       [ 0.26076848,  0.23664738,  0.08020603,  0.07001922,  0.1134371 ,\n",
    "         0.23892179],\n",
    "       [ 0.11943333,  0.29198961,  0.02605103,  0.26234032,  0.1351348 ,\n",
    "         0.16505091],\n",
    "       [ 0.09561176,  0.34396535,  0.0643941 ,  0.16240774,  0.24206137,\n",
    "         0.09155967]])\n",
    "```\n",
    "\n",
    "Running it through `sess.run(tf.nn.top_k(tf.constant(a), k=3))` produces:\n",
    "\n",
    "```\n",
    "TopKV2(values=array([[ 0.34763842,  0.24879643,  0.12789202],\n",
    "       [ 0.28086119,  0.27569815,  0.18063401],\n",
    "       [ 0.26076848,  0.23892179,  0.23664738],\n",
    "       [ 0.29198961,  0.26234032,  0.16505091],\n",
    "       [ 0.34396535,  0.24206137,  0.16240774]]), indices=array([[3, 0, 5],\n",
    "       [0, 1, 4],\n",
    "       [0, 5, 1],\n",
    "       [1, 3, 5],\n",
    "       [1, 4, 3]], dtype=int32))\n",
    "```\n",
    "\n",
    "Looking just at the first row we get `[ 0.34763842,  0.24879643,  0.12789202]`, you can confirm these are the 3 largest probabilities in `a`. You'll also notice `[3, 0, 5]` are the corresponding indices."
   ]
  },
  {
   "cell_type": "markdown",
   "metadata": {},
   "source": [
    "---\n",
    "\n",
    "## Step 4: Visualize the Neural Network's State with Test Images\n",
    "\n",
    " This Section is not required to complete but acts as an additional excersise for understaning the output of a neural network's weights. While neural networks can be a great learning device they are often referred to as a black box. We can understand what the weights of a neural network look like better by plotting their feature maps. After successfully training your neural network you can see what it's feature maps look like by plotting the output of the network's weight layers in response to a test stimuli image. From these plotted feature maps, it's possible to see what characteristics of an image the network finds interesting. For a sign, maybe the inner network feature maps react with high activation to the sign's boundary outline or to the contrast in the sign's painted symbol.\n",
    "\n",
    " Provided for you below is the function code that allows you to get the visualization output of any tensorflow weight layer you want. The inputs to the function should be a stimuli image, one used during training or a new one you provided, and then the tensorflow variable name that represents the layer's state during the training process, for instance if you wanted to see what the [LeNet lab's](https://classroom.udacity.com/nanodegrees/nd013/parts/fbf77062-5703-404e-b60c-95b78b2f3f9e/modules/6df7ae49-c61c-4bb2-a23e-6527e69209ec/lessons/601ae704-1035-4287-8b11-e2c2716217ad/concepts/d4aca031-508f-4e0b-b493-e7b706120f81) feature maps looked like for it's second convolutional layer you could enter conv2 as the tf_activation variable.\n",
    "\n",
    "For an example of what feature map outputs look like, check out NVIDIA's results in their paper [End-to-End Deep Learning for Self-Driving Cars](https://devblogs.nvidia.com/parallelforall/deep-learning-self-driving-cars/) in the section Visualization of internal CNN State. NVIDIA was able to show that their network's inner weights had high activations to road boundary lines by comparing feature maps from an image with a clear path to one without. Try experimenting with a similar test to show that your trained network's weights are looking for interesting features, whether it's looking at differences in feature maps from images with or without a sign, or even what feature maps look like in a trained network vs a completely untrained one on the same sign image.\n",
    "\n",
    "<figure>\n",
    " <img src=\"visualize_cnn.png\" width=\"380\" alt=\"Combined Image\" />\n",
    " <figcaption>\n",
    " <p></p> \n",
    " <p style=\"text-align: center;\"> Your output should look something like this (above)</p> \n",
    " </figcaption>\n",
    "</figure>\n",
    " <p></p> \n"
   ]
  },
  {
   "cell_type": "code",
   "execution_count": 66,
   "metadata": {
    "collapsed": true
   },
   "outputs": [],
   "source": [
    "### Visualize your network's feature maps here.\n",
    "### Feel free to use as many code cells as needed.\n",
    "\n",
    "# image_input: the test image being fed into the network to produce the feature maps\n",
    "# tf_activation: should be a tf variable name used during your training procedure that represents the calculated state of a specific weight layer\n",
    "# activation_min/max: can be used to view the activation contrast in more detail, by default matplot sets min and max to the actual min and max values of the output\n",
    "# plt_num: used to plot out multiple different weight feature map sets on the same block, just extend the plt number for each new feature map entry\n",
    "\n",
    "def outputFeatureMap(image_input, tf_activation, activation_min=-1, activation_max=-1 ,plt_num=1):\n",
    "    # Here make sure to preprocess your image_input in a way your network expects\n",
    "    # with size, normalization, ect if needed\n",
    "    # image_input =\n",
    "    # Note: x should be the same name as your network's tensorflow data placeholder variable\n",
    "    # If you get an error tf_activation is not defined it maybe having trouble accessing the variable from inside a function\n",
    "    activation = tf_activation.eval(session=sess,feed_dict={x : image_input})\n",
    "    featuremaps = activation.shape[3]\n",
    "    plt.figure(plt_num, figsize=(15,15))\n",
    "    for featuremap in range(featuremaps):\n",
    "        plt.subplot(6,8, featuremap+1) # sets the number of feature maps to show on each row and column\n",
    "        plt.title('FeatureMap ' + str(featuremap)) # displays the feature map number\n",
    "        if activation_min != -1 & activation_max != -1:\n",
    "            plt.imshow(activation[0,:,:, featuremap], interpolation=\"nearest\", vmin =activation_min, vmax=activation_max, cmap=\"gray\")\n",
    "        elif activation_max != -1:\n",
    "            plt.imshow(activation[0,:,:, featuremap], interpolation=\"nearest\", vmax=activation_max, cmap=\"gray\")\n",
    "        elif activation_min !=-1:\n",
    "            plt.imshow(activation[0,:,:, featuremap], interpolation=\"nearest\", vmin=activation_min, cmap=\"gray\")\n",
    "        else:\n",
    "            plt.imshow(activation[0,:,:, featuremap], interpolation=\"nearest\", cmap=\"gray\")"
   ]
  },
  {
   "cell_type": "markdown",
   "metadata": {},
   "source": [
    "### Question 9\n",
    "\n",
    "Discuss how you used the visual output of your trained network's feature maps to show that it had learned to look for interesting characteristics in traffic sign images\n"
   ]
  },
  {
   "cell_type": "markdown",
   "metadata": {},
   "source": [
    "**Answer:**\n",
    "\n",
    "I did not use this feature at this time"
   ]
  },
  {
   "cell_type": "markdown",
   "metadata": {},
   "source": [
    "> **Note**: Once you have completed all of the code implementations and successfully answered each question above, you may finalize your work by exporting the iPython Notebook as an HTML document. You can do this by using the menu above and navigating to  \\n\",\n",
    "    \"**File -> Download as -> HTML (.html)**. Include the finished document along with this notebook as your submission."
   ]
  },
  {
   "cell_type": "markdown",
   "metadata": {},
   "source": [
    "### Project Writeup\n",
    "\n",
    "Once you have completed the code implementation, document your results in a project writeup using this [template](https://github.com/udacity/CarND-Traffic-Sign-Classifier-Project/blob/master/writeup_template.md) as a guide. The writeup can be in a markdown or pdf file. "
   ]
  }
 ],
 "metadata": {
  "anaconda-cloud": {},
  "kernelspec": {
   "display_name": "Python 3",
   "language": "python",
   "name": "python3"
  },
  "language_info": {
   "codemirror_mode": {
    "name": "ipython",
    "version": 3
   },
   "file_extension": ".py",
   "mimetype": "text/x-python",
   "name": "python",
   "nbconvert_exporter": "python",
   "pygments_lexer": "ipython3",
   "version": "3.5.2"
  },
  "widgets": {
   "state": {},
   "version": "1.1.2"
  }
 },
 "nbformat": 4,
 "nbformat_minor": 1
}
